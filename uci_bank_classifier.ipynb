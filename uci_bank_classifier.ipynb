{
 "cells": [
  {
   "cell_type": "markdown",
   "metadata": {},
   "source": [
    "<table class=\"table table-bordered\">\n",
    "    <tr>\n",
    "        <th style=\"text-align:center; width:35%\"><img src='https://dl.dropboxusercontent.com/s/hrpgwq7gqoxf4am/smu_scis.png' style=\"width: 300px; height: 60px; \"></th>\n",
    "    <th style=\"text-align:center;\"><font size=\"4\"> <br/>Analytics in Python</font></th>\n",
    "    </tr>\n",
    "</table> "
   ]
  },
  {
   "cell_type": "markdown",
   "metadata": {},
   "source": [
    "The following program is to illustrate the steps to create an analytics model (or more specifically, a classification model) with the reduced Bank Marketing dataset (reduced the 'no' dataset to 7000 and features from 20 to 7) from the UCI Machine Learning Repository - https://archive.ics.uci.edu/ml/datasets/Bank+Marketing. \n",
    "\n",
    "This dataset represents the <b>direct marketing campaigns of a Portuguese bank</b> and <b>whether the efforts led to a bank term deposit</b>.\n",
    "<br />The marketing campaigns were based on phone calls. Often, more than one contact to the same client was required, in order to access if the product (bank term deposit) would be ('yes') or not ('no') subscribed.\n",
    "\n",
    "There are <b>7 input variables</b> and <b>1 target variable</b> - predict if the client will subscribe (yes/no) a term deposit (variable y).\n",
    "The variable names and their brief description are as follows:\n",
    "- <b>age</b> (numeric)\n",
    "- <b>education</b> (categorical: 'basic.4y','basic.6y','basic.9y','high.school','illiterate','professional.course','university.degree','unknown')\n",
    "- <b>default</b>: has credit in default? (categorical: 'no','yes','unknown')\n",
    "- <b>housing</b>: has housing loan? (categorical: 'no','yes','unknown')\n",
    "- <b>loan</b>: has personal loan? (categorical: 'no','yes','unknown')\n",
    "- <b>campaign</b>: number of contacts performed during this campaign and for this client (numeric, includes last contact)\n",
    "- <b>emp.var.rate</b>: employment variation rate - quarterly indicator (numeric)\n",
    "- <b>y</b>: has the client subscribed a term deposit? (binary: <b>'yes'</b>,<b>'no'</b>)"
   ]
  },
  {
   "cell_type": "markdown",
   "metadata": {},
   "source": [
    "### Step 1: import relevant libraries"
   ]
  },
  {
   "cell_type": "code",
   "execution_count": 1,
   "metadata": {},
   "outputs": [],
   "source": [
    "# import the necessary libraries\n",
    "# ------------------------------\n",
    "import pandas as pd\n",
    "import numpy as np\n",
    "from sklearn.linear_model import LogisticRegression\n",
    "from sklearn.metrics import accuracy_score, confusion_matrix, classification_report, ConfusionMatrixDisplay\n",
    "from sklearn.preprocessing import MinMaxScaler\n",
    "from sklearn.feature_selection import RFE\n",
    "from sklearn.model_selection import train_test_split\n",
    "import pickle\n",
    "from sklearn.model_selection import GridSearchCV"
   ]
  },
  {
   "cell_type": "markdown",
   "metadata": {},
   "source": [
    "### Step 2: read in the data"
   ]
  },
  {
   "cell_type": "code",
   "execution_count": 2,
   "metadata": {},
   "outputs": [
    {
     "data": {
      "text/html": [
       "<div>\n",
       "<style scoped>\n",
       "    .dataframe tbody tr th:only-of-type {\n",
       "        vertical-align: middle;\n",
       "    }\n",
       "\n",
       "    .dataframe tbody tr th {\n",
       "        vertical-align: top;\n",
       "    }\n",
       "\n",
       "    .dataframe thead th {\n",
       "        text-align: right;\n",
       "    }\n",
       "</style>\n",
       "<table border=\"1\" class=\"dataframe\">\n",
       "  <thead>\n",
       "    <tr style=\"text-align: right;\">\n",
       "      <th></th>\n",
       "      <th>age</th>\n",
       "      <th>education</th>\n",
       "      <th>default</th>\n",
       "      <th>housing</th>\n",
       "      <th>loan</th>\n",
       "      <th>campaign</th>\n",
       "      <th>emp.var.rate</th>\n",
       "      <th>y</th>\n",
       "    </tr>\n",
       "  </thead>\n",
       "  <tbody>\n",
       "    <tr>\n",
       "      <th>0</th>\n",
       "      <td>48</td>\n",
       "      <td>basic.9y</td>\n",
       "      <td>no</td>\n",
       "      <td>yes</td>\n",
       "      <td>no</td>\n",
       "      <td>2</td>\n",
       "      <td>-1.8</td>\n",
       "      <td>no</td>\n",
       "    </tr>\n",
       "    <tr>\n",
       "      <th>1</th>\n",
       "      <td>31</td>\n",
       "      <td>basic.9y</td>\n",
       "      <td>no</td>\n",
       "      <td>yes</td>\n",
       "      <td>no</td>\n",
       "      <td>1</td>\n",
       "      <td>1.4</td>\n",
       "      <td>no</td>\n",
       "    </tr>\n",
       "    <tr>\n",
       "      <th>2</th>\n",
       "      <td>52</td>\n",
       "      <td>professional.course</td>\n",
       "      <td>no</td>\n",
       "      <td>yes</td>\n",
       "      <td>yes</td>\n",
       "      <td>1</td>\n",
       "      <td>-0.1</td>\n",
       "      <td>no</td>\n",
       "    </tr>\n",
       "    <tr>\n",
       "      <th>3</th>\n",
       "      <td>48</td>\n",
       "      <td>university.degree</td>\n",
       "      <td>unknown</td>\n",
       "      <td>yes</td>\n",
       "      <td>no</td>\n",
       "      <td>2</td>\n",
       "      <td>1.4</td>\n",
       "      <td>no</td>\n",
       "    </tr>\n",
       "    <tr>\n",
       "      <th>4</th>\n",
       "      <td>22</td>\n",
       "      <td>high.school</td>\n",
       "      <td>no</td>\n",
       "      <td>yes</td>\n",
       "      <td>no</td>\n",
       "      <td>2</td>\n",
       "      <td>1.4</td>\n",
       "      <td>no</td>\n",
       "    </tr>\n",
       "  </tbody>\n",
       "</table>\n",
       "</div>"
      ],
      "text/plain": [
       "   age            education  default housing loan  campaign  emp.var.rate   y\n",
       "0   48             basic.9y       no     yes   no         2          -1.8  no\n",
       "1   31             basic.9y       no     yes   no         1           1.4  no\n",
       "2   52  professional.course       no     yes  yes         1          -0.1  no\n",
       "3   48    university.degree  unknown     yes   no         2           1.4  no\n",
       "4   22          high.school       no     yes   no         2           1.4  no"
      ]
     },
     "execution_count": 2,
     "metadata": {},
     "output_type": "execute_result"
    }
   ],
   "source": [
    "# read in data file\n",
    "# -----------------\n",
    "df = pd.read_csv('uci_bank_dbtt.csv')\n",
    "\n",
    "# check top 5 rows from data file\n",
    "df.head()"
   ]
  },
  {
   "cell_type": "code",
   "execution_count": 3,
   "metadata": {},
   "outputs": [
    {
     "data": {
      "text/html": [
       "<div>\n",
       "<style scoped>\n",
       "    .dataframe tbody tr th:only-of-type {\n",
       "        vertical-align: middle;\n",
       "    }\n",
       "\n",
       "    .dataframe tbody tr th {\n",
       "        vertical-align: top;\n",
       "    }\n",
       "\n",
       "    .dataframe thead th {\n",
       "        text-align: right;\n",
       "    }\n",
       "</style>\n",
       "<table border=\"1\" class=\"dataframe\">\n",
       "  <thead>\n",
       "    <tr style=\"text-align: right;\">\n",
       "      <th></th>\n",
       "      <th>age</th>\n",
       "      <th>education</th>\n",
       "      <th>default</th>\n",
       "      <th>housing</th>\n",
       "      <th>loan</th>\n",
       "      <th>campaign</th>\n",
       "      <th>emp.var.rate</th>\n",
       "      <th>y</th>\n",
       "    </tr>\n",
       "  </thead>\n",
       "  <tbody>\n",
       "    <tr>\n",
       "      <th>count</th>\n",
       "      <td>11640.000000</td>\n",
       "      <td>11640</td>\n",
       "      <td>11640</td>\n",
       "      <td>11640</td>\n",
       "      <td>11640</td>\n",
       "      <td>11640.000000</td>\n",
       "      <td>11640.000000</td>\n",
       "      <td>11640</td>\n",
       "    </tr>\n",
       "    <tr>\n",
       "      <th>unique</th>\n",
       "      <td>NaN</td>\n",
       "      <td>8</td>\n",
       "      <td>3</td>\n",
       "      <td>3</td>\n",
       "      <td>3</td>\n",
       "      <td>NaN</td>\n",
       "      <td>NaN</td>\n",
       "      <td>2</td>\n",
       "    </tr>\n",
       "    <tr>\n",
       "      <th>top</th>\n",
       "      <td>NaN</td>\n",
       "      <td>university.degree</td>\n",
       "      <td>no</td>\n",
       "      <td>yes</td>\n",
       "      <td>no</td>\n",
       "      <td>NaN</td>\n",
       "      <td>NaN</td>\n",
       "      <td>no</td>\n",
       "    </tr>\n",
       "    <tr>\n",
       "      <th>freq</th>\n",
       "      <td>NaN</td>\n",
       "      <td>3669</td>\n",
       "      <td>9569</td>\n",
       "      <td>6202</td>\n",
       "      <td>9594</td>\n",
       "      <td>NaN</td>\n",
       "      <td>NaN</td>\n",
       "      <td>7000</td>\n",
       "    </tr>\n",
       "    <tr>\n",
       "      <th>mean</th>\n",
       "      <td>40.319244</td>\n",
       "      <td>NaN</td>\n",
       "      <td>NaN</td>\n",
       "      <td>NaN</td>\n",
       "      <td>NaN</td>\n",
       "      <td>2.402749</td>\n",
       "      <td>-0.349880</td>\n",
       "      <td>NaN</td>\n",
       "    </tr>\n",
       "    <tr>\n",
       "      <th>std</th>\n",
       "      <td>11.616475</td>\n",
       "      <td>NaN</td>\n",
       "      <td>NaN</td>\n",
       "      <td>NaN</td>\n",
       "      <td>NaN</td>\n",
       "      <td>2.485596</td>\n",
       "      <td>1.702676</td>\n",
       "      <td>NaN</td>\n",
       "    </tr>\n",
       "    <tr>\n",
       "      <th>min</th>\n",
       "      <td>17.000000</td>\n",
       "      <td>NaN</td>\n",
       "      <td>NaN</td>\n",
       "      <td>NaN</td>\n",
       "      <td>NaN</td>\n",
       "      <td>1.000000</td>\n",
       "      <td>-3.400000</td>\n",
       "      <td>NaN</td>\n",
       "    </tr>\n",
       "    <tr>\n",
       "      <th>25%</th>\n",
       "      <td>32.000000</td>\n",
       "      <td>NaN</td>\n",
       "      <td>NaN</td>\n",
       "      <td>NaN</td>\n",
       "      <td>NaN</td>\n",
       "      <td>1.000000</td>\n",
       "      <td>-1.800000</td>\n",
       "      <td>NaN</td>\n",
       "    </tr>\n",
       "    <tr>\n",
       "      <th>50%</th>\n",
       "      <td>38.000000</td>\n",
       "      <td>NaN</td>\n",
       "      <td>NaN</td>\n",
       "      <td>NaN</td>\n",
       "      <td>NaN</td>\n",
       "      <td>2.000000</td>\n",
       "      <td>-0.100000</td>\n",
       "      <td>NaN</td>\n",
       "    </tr>\n",
       "    <tr>\n",
       "      <th>75%</th>\n",
       "      <td>48.000000</td>\n",
       "      <td>NaN</td>\n",
       "      <td>NaN</td>\n",
       "      <td>NaN</td>\n",
       "      <td>NaN</td>\n",
       "      <td>3.000000</td>\n",
       "      <td>1.400000</td>\n",
       "      <td>NaN</td>\n",
       "    </tr>\n",
       "    <tr>\n",
       "      <th>max</th>\n",
       "      <td>98.000000</td>\n",
       "      <td>NaN</td>\n",
       "      <td>NaN</td>\n",
       "      <td>NaN</td>\n",
       "      <td>NaN</td>\n",
       "      <td>43.000000</td>\n",
       "      <td>1.400000</td>\n",
       "      <td>NaN</td>\n",
       "    </tr>\n",
       "  </tbody>\n",
       "</table>\n",
       "</div>"
      ],
      "text/plain": [
       "                 age          education default housing   loan      campaign  \\\n",
       "count   11640.000000              11640   11640   11640  11640  11640.000000   \n",
       "unique           NaN                  8       3       3      3           NaN   \n",
       "top              NaN  university.degree      no     yes     no           NaN   \n",
       "freq             NaN               3669    9569    6202   9594           NaN   \n",
       "mean       40.319244                NaN     NaN     NaN    NaN      2.402749   \n",
       "std        11.616475                NaN     NaN     NaN    NaN      2.485596   \n",
       "min        17.000000                NaN     NaN     NaN    NaN      1.000000   \n",
       "25%        32.000000                NaN     NaN     NaN    NaN      1.000000   \n",
       "50%        38.000000                NaN     NaN     NaN    NaN      2.000000   \n",
       "75%        48.000000                NaN     NaN     NaN    NaN      3.000000   \n",
       "max        98.000000                NaN     NaN     NaN    NaN     43.000000   \n",
       "\n",
       "        emp.var.rate      y  \n",
       "count   11640.000000  11640  \n",
       "unique           NaN      2  \n",
       "top              NaN     no  \n",
       "freq             NaN   7000  \n",
       "mean       -0.349880    NaN  \n",
       "std         1.702676    NaN  \n",
       "min        -3.400000    NaN  \n",
       "25%        -1.800000    NaN  \n",
       "50%        -0.100000    NaN  \n",
       "75%         1.400000    NaN  \n",
       "max         1.400000    NaN  "
      ]
     },
     "execution_count": 3,
     "metadata": {},
     "output_type": "execute_result"
    }
   ],
   "source": [
    "# summary statistics\n",
    "# ------------------\n",
    "df.describe(include='all')"
   ]
  },
  {
   "cell_type": "markdown",
   "metadata": {},
   "source": [
    "### Step 3: Separate the attributes and target (in the initial dataset)"
   ]
  },
  {
   "cell_type": "markdown",
   "metadata": {},
   "source": [
    "Since the data is read as a whole into the dataframe `df`, there is a need to <b>separate</b> `df` into 2 parts: \n",
    "- <b>input variables</b> or information regarding the predictive values and \n",
    "- the <b>target</b> value. The target value is actually the label of the input values, indicating if the person has subscribed to the term deposit or not.\n",
    "\n",
    "`X = df.drop('y', axis=1)` is to create `X` with only the first 7 columns of client information and removing the last column (`'y'`). In deed, it doesn't make sense to include 'y' in the data to train the model since it is the target we want to learn and predict.\n",
    "\n",
    "`y = df['y']` is creating a dataframe that only contains the target value - 'yes' or 'no' "
   ]
  },
  {
   "cell_type": "code",
   "execution_count": 4,
   "metadata": {
    "scrolled": true
   },
   "outputs": [
    {
     "name": "stdout",
     "output_type": "stream",
     "text": [
      "(11640, 7) (11640,)\n"
     ]
    }
   ],
   "source": [
    "# Separate input (X) and target (y) dataframes\n",
    "# --------------------------------------------\n",
    "\n",
    "X = df.drop('y', axis=1)\n",
    "y = df['y']\n",
    "\n",
    "#(,) --> means 1 col\n",
    "print(X.shape,y.shape)"
   ]
  },
  {
   "cell_type": "code",
   "execution_count": 5,
   "metadata": {},
   "outputs": [
    {
     "name": "stdout",
     "output_type": "stream",
     "text": [
      "no     7000\n",
      "yes    4640\n",
      "Name: y, dtype: int64\n"
     ]
    }
   ],
   "source": [
    "# distribution of class\n",
    "# quite balanced dataset\n",
    "\n",
    "print(y.value_counts())"
   ]
  },
  {
   "cell_type": "code",
   "execution_count": 6,
   "metadata": {},
   "outputs": [
    {
     "data": {
      "text/html": [
       "<div>\n",
       "<style scoped>\n",
       "    .dataframe tbody tr th:only-of-type {\n",
       "        vertical-align: middle;\n",
       "    }\n",
       "\n",
       "    .dataframe tbody tr th {\n",
       "        vertical-align: top;\n",
       "    }\n",
       "\n",
       "    .dataframe thead th {\n",
       "        text-align: right;\n",
       "    }\n",
       "</style>\n",
       "<table border=\"1\" class=\"dataframe\">\n",
       "  <thead>\n",
       "    <tr style=\"text-align: right;\">\n",
       "      <th></th>\n",
       "      <th>age</th>\n",
       "      <th>education</th>\n",
       "      <th>default</th>\n",
       "      <th>housing</th>\n",
       "      <th>loan</th>\n",
       "      <th>campaign</th>\n",
       "      <th>emp.var.rate</th>\n",
       "    </tr>\n",
       "  </thead>\n",
       "  <tbody>\n",
       "    <tr>\n",
       "      <th>0</th>\n",
       "      <td>48</td>\n",
       "      <td>basic.9y</td>\n",
       "      <td>no</td>\n",
       "      <td>yes</td>\n",
       "      <td>no</td>\n",
       "      <td>2</td>\n",
       "      <td>-1.8</td>\n",
       "    </tr>\n",
       "    <tr>\n",
       "      <th>1</th>\n",
       "      <td>31</td>\n",
       "      <td>basic.9y</td>\n",
       "      <td>no</td>\n",
       "      <td>yes</td>\n",
       "      <td>no</td>\n",
       "      <td>1</td>\n",
       "      <td>1.4</td>\n",
       "    </tr>\n",
       "    <tr>\n",
       "      <th>2</th>\n",
       "      <td>52</td>\n",
       "      <td>professional.course</td>\n",
       "      <td>no</td>\n",
       "      <td>yes</td>\n",
       "      <td>yes</td>\n",
       "      <td>1</td>\n",
       "      <td>-0.1</td>\n",
       "    </tr>\n",
       "    <tr>\n",
       "      <th>3</th>\n",
       "      <td>48</td>\n",
       "      <td>university.degree</td>\n",
       "      <td>unknown</td>\n",
       "      <td>yes</td>\n",
       "      <td>no</td>\n",
       "      <td>2</td>\n",
       "      <td>1.4</td>\n",
       "    </tr>\n",
       "    <tr>\n",
       "      <th>4</th>\n",
       "      <td>22</td>\n",
       "      <td>high.school</td>\n",
       "      <td>no</td>\n",
       "      <td>yes</td>\n",
       "      <td>no</td>\n",
       "      <td>2</td>\n",
       "      <td>1.4</td>\n",
       "    </tr>\n",
       "  </tbody>\n",
       "</table>\n",
       "</div>"
      ],
      "text/plain": [
       "   age            education  default housing loan  campaign  emp.var.rate\n",
       "0   48             basic.9y       no     yes   no         2          -1.8\n",
       "1   31             basic.9y       no     yes   no         1           1.4\n",
       "2   52  professional.course       no     yes  yes         1          -0.1\n",
       "3   48    university.degree  unknown     yes   no         2           1.4\n",
       "4   22          high.school       no     yes   no         2           1.4"
      ]
     },
     "execution_count": 6,
     "metadata": {},
     "output_type": "execute_result"
    }
   ],
   "source": [
    "X.head()"
   ]
  },
  {
   "cell_type": "code",
   "execution_count": 7,
   "metadata": {
    "scrolled": true
   },
   "outputs": [
    {
     "data": {
      "text/plain": [
       "0    no\n",
       "1    no\n",
       "2    no\n",
       "3    no\n",
       "4    no\n",
       "Name: y, dtype: object"
      ]
     },
     "execution_count": 7,
     "metadata": {},
     "output_type": "execute_result"
    }
   ],
   "source": [
    "y.head()"
   ]
  },
  {
   "cell_type": "markdown",
   "metadata": {},
   "source": [
    "### Step 4: preprocess data"
   ]
  },
  {
   "cell_type": "markdown",
   "metadata": {},
   "source": [
    "There is a need to ensure the data is processed as follows:\n",
    "- For the columns which contain <u>numeric variables</u>:\n",
    "Since the range of input values are of different scales (from `df.describe()`), we can choose to perform data standardisation using either standardisation or normalisation. Assuming that the distribution will not always be normal,  <b>normalising</b> the values between `0-1` will be a better choice so that the range of values won't influence the model. <br />It is important to do the <b>same scaling</b> on both input values of training data (`X_train`) and testing data (`X_test`) to ensure meaningful evaluation.\n",
    "- For the columns which contain <u>categorical variables</u>:\n",
    "It is necessary to convert them to <b>one-hot encoding</b>. One-hot encoding converts each categorical value into a new column and assign a 1 or 0 (True/False) value to the column. It has the benefit of not weighting a value improperly."
   ]
  },
  {
   "cell_type": "code",
   "execution_count": 8,
   "metadata": {},
   "outputs": [],
   "source": [
    "def preprocess_data(X):\n",
    "    # for numerical columns\n",
    "    # ---------------------\n",
    "    # we normalize using MinMaxScaler to constrain values between 0 and 1\n",
    "    \n",
    "    scaler = MinMaxScaler(feature_range = (0,1))\n",
    "    df_numeric = X.select_dtypes(include=[np.number]) # find columns corresponds to numbers\n",
    "    numeric_cols = df_numeric.columns.values          # take those 2 columns as values\n",
    "\n",
    "    print(numeric_cols)\n",
    "    \n",
    "    for col in numeric_cols:\n",
    "        # fit_transform() of scaler can be applied to each column individually\n",
    "        X[col] = scaler.fit_transform(X[[col]]) # apply normalisation\n",
    "        \n",
    "    print(\"---Successfully processed numeric column(s)\")\n",
    "    print(X.head(5))\n",
    "    \n",
    "    \n",
    "    # for categorical columns\n",
    "    # -----------------------\n",
    "    # we convert the column into one-hot encoding\n",
    "    df_categorical = X.select_dtypes(exclude=[np.number]) # find out columns that are categorical\n",
    "    categorical_cols = df_categorical.columns.values      # get their values\n",
    "    \n",
    "    # the function get_dummies() (from pandas) creates one-hot encoding\n",
    "    X = pd.get_dummies(X,columns=categorical_cols) # doing one-hot\n",
    "           \n",
    "    print(\"---Successfully processed categorical column(s)\")\n",
    "    print(X.head(5))\n",
    "        \n",
    "    return X"
   ]
  },
  {
   "cell_type": "code",
   "execution_count": 9,
   "metadata": {},
   "outputs": [
    {
     "name": "stdout",
     "output_type": "stream",
     "text": [
      "['age' 'campaign' 'emp.var.rate']\n",
      "---Successfully processed numeric column(s)\n",
      "        age            education  default housing loan  campaign  emp.var.rate\n",
      "0  0.382716             basic.9y       no     yes   no   0.02381      0.333333\n",
      "1  0.172840             basic.9y       no     yes   no   0.00000      1.000000\n",
      "2  0.432099  professional.course       no     yes  yes   0.00000      0.687500\n",
      "3  0.382716    university.degree  unknown     yes   no   0.02381      1.000000\n",
      "4  0.061728          high.school       no     yes   no   0.02381      1.000000\n",
      "---Successfully processed categorical column(s)\n",
      "        age  campaign  emp.var.rate  education_basic.4y  education_basic.6y  \\\n",
      "0  0.382716   0.02381      0.333333                   0                   0   \n",
      "1  0.172840   0.00000      1.000000                   0                   0   \n",
      "2  0.432099   0.00000      0.687500                   0                   0   \n",
      "3  0.382716   0.02381      1.000000                   0                   0   \n",
      "4  0.061728   0.02381      1.000000                   0                   0   \n",
      "\n",
      "   education_basic.9y  education_high.school  education_illiterate  \\\n",
      "0                   1                      0                     0   \n",
      "1                   1                      0                     0   \n",
      "2                   0                      0                     0   \n",
      "3                   0                      0                     0   \n",
      "4                   0                      1                     0   \n",
      "\n",
      "   education_professional.course  education_university.degree  \\\n",
      "0                              0                            0   \n",
      "1                              0                            0   \n",
      "2                              1                            0   \n",
      "3                              0                            1   \n",
      "4                              0                            0   \n",
      "\n",
      "   education_unknown  default_no  default_unknown  default_yes  housing_no  \\\n",
      "0                  0           1                0            0           0   \n",
      "1                  0           1                0            0           0   \n",
      "2                  0           1                0            0           0   \n",
      "3                  0           0                1            0           0   \n",
      "4                  0           1                0            0           0   \n",
      "\n",
      "   housing_unknown  housing_yes  loan_no  loan_unknown  loan_yes  \n",
      "0                0            1        1             0         0  \n",
      "1                0            1        1             0         0  \n",
      "2                0            1        0             0         1  \n",
      "3                0            1        1             0         0  \n",
      "4                0            1        1             0         0  \n"
     ]
    }
   ],
   "source": [
    "# execute preprocess_data()\n",
    "# this is the preprocesssed metrics to fit into algorithm\n",
    "\n",
    "X = preprocess_data(X)"
   ]
  },
  {
   "cell_type": "markdown",
   "metadata": {},
   "source": [
    "### Step 5: split data into training and testing data"
   ]
  },
  {
   "cell_type": "markdown",
   "metadata": {},
   "source": [
    "In order to train a classifier or a classification model, there is a need to <b>split</b> the <b>processed input data</b> and the corresponding <b>target</b>. We then get two parts: <b>training data</b> and <b>testing data</b>. \n",
    "\n",
    "We will then use the <u>training data</u> to <u>create a model</u> use the <u>testing data</u> to <u>evaluate the model</u>.\n",
    "\n",
    "`Scikit-learn` provides a useful function - `train_test_split()` that is able to separate two set of data according to a proportion, for example, when test_size=0.3, it means splitting 70% training - 30% testing. \n",
    "\n",
    "It is common to use `X` to denote input values and `y` to indicate target value in scikit-learn. As a result, `X_train`, `y_train` is essentially the input values and corresponding target value of training data. Similarly for `X_test` and `y_test` for testing data."
   ]
  },
  {
   "cell_type": "code",
   "execution_count": 10,
   "metadata": {},
   "outputs": [
    {
     "name": "stdout",
     "output_type": "stream",
     "text": [
      "(9312, 20) (2328, 20) (9312,) (2328,)\n"
     ]
    }
   ],
   "source": [
    "# Split feature and label sets to train and data sets - 80-20\n",
    "# random_state is desirable for reproducibility\n",
    "# stratify - to keep the same proportion of (yes and no) as input dataset\n",
    "\n",
    "# 20% test data, random state will choose rows - not on top and down then choose to split already for equality\n",
    "# stratify: when we split yes-no we will have same version of yes at a certain position\n",
    "X_train, X_test, y_train, y_test = train_test_split(X, y, test_size = 0.2, random_state = 10, stratify = y)\n",
    "print(X_train.shape, X_test.shape, y_train.shape, y_test.shape)"
   ]
  },
  {
   "cell_type": "markdown",
   "metadata": {},
   "source": [
    "### Step 6: create the Logistic Regression model"
   ]
  },
  {
   "cell_type": "markdown",
   "metadata": {},
   "source": [
    "The algorithm used in this example is <b>Logistic Regression</b>. It is one of the commonly used classification algorithm. The model created is `logreg`. You can use any other variable to represent it, e.g., 'lr'. \n",
    "\n",
    "`logreg.fit(X_train, y_train)` : uses the training input data and target value to build the `logreg` model. After this command, `logreg` will learn the 'rules'/'knowledge' of whether a customer is likely to open a deposit account or not.\n",
    "\n",
    "`y_pred = logreg.predict(X_test)` : the `logreg` model is used to predict `X_test` and the predicted result is assigned to `y_pred`. If the model has learnt all the 'knowledge/rules', `y_pred` will be 100% match with `y_test`. \n",
    "\n",
    "The subsequent codes are to evaluate the predicted results using both accuracy and F1-score. "
   ]
  },
  {
   "cell_type": "code",
   "execution_count": 11,
   "metadata": {},
   "outputs": [
    {
     "name": "stdout",
     "output_type": "stream",
     "text": [
      "Testing accuracy 0.7173539518900344\n",
      "              precision    recall  f1-score   support\n",
      "\n",
      "          no       0.77      0.76      0.76      1400\n",
      "         yes       0.65      0.65      0.65       928\n",
      "\n",
      "    accuracy                           0.72      2328\n",
      "   macro avg       0.71      0.71      0.71      2328\n",
      "weighted avg       0.72      0.72      0.72      2328\n",
      "\n"
     ]
    },
    {
     "data": {
      "image/png": "[encoded data removed]",
      "text/plain": [
       "<Figure size 432x288 with 2 Axes>"
      ]
     },
     "metadata": {
      "needs_background": "light"
     },
     "output_type": "display_data"
    }
   ],
   "source": [
    "# create a logistic regression classifier\n",
    "# ---------------------------------------\n",
    "logreg = LogisticRegression(solver='liblinear', random_state=7)\n",
    "logreg.fit(X_train, y_train)\n",
    "\n",
    "# Apply the model on the test data to get a prediction\n",
    "# ----------------------------------------------------\n",
    "y_pred = logreg.predict(X_test)\n",
    "\n",
    "# Get accuracy of the model\n",
    "# -------------------------\n",
    "print('Testing accuracy %s' % accuracy_score(y_test, y_pred))\n",
    "\n",
    "# compute confusion matrix\n",
    "# ------------------------\n",
    "labels = ['yes','no']\n",
    "cm = confusion_matrix(y_test, y_pred, labels=labels)\n",
    "disp = ConfusionMatrixDisplay(confusion_matrix=cm,display_labels=labels) # purple are the ones you made an error with the model\n",
    "disp.plot()\n",
    "\n",
    "# look at the value for both 'yes' and 'no' class, the model can predict 'no' (0.76) better than 'yes' (0.65)\n",
    "print(classification_report(y_test, y_pred))"
   ]
  },
  {
   "cell_type": "code",
   "execution_count": 12,
   "metadata": {},
   "outputs": [],
   "source": [
    "# save the model in a file to retrieve it later if necessary\n",
    "# ----------------------------------------------------------\n",
    "# filename = 'finalized_model.sav'\n",
    "# pickle.dump(logreg, open(filename, 'wb'))"
   ]
  },
  {
   "cell_type": "markdown",
   "metadata": {},
   "source": [
    "### Activity 1 - Feature selection - find the top-3 important features"
   ]
  },
  {
   "cell_type": "code",
   "execution_count": 12,
   "metadata": {},
   "outputs": [
    {
     "name": "stdout",
     "output_type": "stream",
     "text": [
      "Num Features: 3\n",
      "Selected Features: [ True  True  True False False False False False False False False False\n",
      " False False False False False False False False]\n",
      "Feature Ranking: [ 1  1  1 16  7  6 15  3 18  5  4  2 17  8 13 12 14  9 10 11]\n"
     ]
    }
   ],
   "source": [
    "# Recursive Feature Elimination (or RFE)\n",
    "# --------------------------------------\n",
    "# works by recursively removing attributes and  building a model on those attributes that remain.\n",
    "# top 3 that contribute the most to the model\n",
    "rfe = RFE(logreg, n_features_to_select=3)\n",
    "fit = rfe.fit(X, y)\n",
    "\n",
    "print(\"Num Features: %d\" % fit.n_features_)\n",
    "print(\"Selected Features: %s\" % fit.support_)\n",
    "print(\"Feature Ranking: %s\" % fit.ranking_)"
   ]
  },
  {
   "cell_type": "code",
   "execution_count": 13,
   "metadata": {},
   "outputs": [
    {
     "name": "stdout",
     "output_type": "stream",
     "text": [
      "['age' 'campaign' 'emp.var.rate']\n"
     ]
    }
   ],
   "source": [
    "selected = fit.support_\n",
    "# get the top-3 feature_names\n",
    "feature_names = X.columns\n",
    "\n",
    "# write your code below\n",
    "# ---------------------\n",
    "print(feature_names.to_numpy()[selected])"
   ]
  },
  {
   "cell_type": "markdown",
   "metadata": {},
   "source": [
    "### Activity 2 - Based on customer details given in uci_bank_predict.csv, which customer will likely subscribe to a short-term deposit?"
   ]
  },
  {
   "cell_type": "code",
   "execution_count": 14,
   "metadata": {},
   "outputs": [
    {
     "name": "stdout",
     "output_type": "stream",
     "text": [
      "(20, 7)\n",
      "    age            education  default  housing     loan  campaign  \\\n",
      "0    48             basic.6y  unknown      yes       no         2   \n",
      "1    52  professional.course       no      yes      yes         1   \n",
      "2    48    university.degree  unknown      yes       no         2   \n",
      "3    22          high.school       no      yes       no         2   \n",
      "4    45             basic.9y       no  unknown  unknown         1   \n",
      "5    50           illiterate       no      yes       no         2   \n",
      "6    41             basic.6y  unknown      yes      yes         4   \n",
      "7    39             basic.9y       no       no       no         2   \n",
      "8    25          high.school  unknown      yes      yes         6   \n",
      "9    38    university.degree       no       no       no         2   \n",
      "10   52             basic.4y  unknown      yes       no         3   \n",
      "11   32    university.degree       no       no  unknown         1   \n",
      "12   33  professional.course       no  unknown       no         1   \n",
      "13   31    university.degree       no      yes       no         1   \n",
      "14   62           illiterate       no      yes  unknown         1   \n",
      "15   62              unknown      yes      yes       no         1   \n",
      "16   62    university.degree       no       no       no         2   \n",
      "17   37           illiterate       no      yes  unknown         1   \n",
      "18   73          high.school       no      yes       no         1   \n",
      "19   44  professional.course      yes       no       no         1   \n",
      "\n",
      "    emp.var.rate  \n",
      "0           -1.8  \n",
      "1           -0.1  \n",
      "2            1.4  \n",
      "3            1.4  \n",
      "4            1.1  \n",
      "5            1.4  \n",
      "6            1.8  \n",
      "7            1.1  \n",
      "8           -0.1  \n",
      "9            2.0  \n",
      "10           1.1  \n",
      "11          -0.8  \n",
      "12          -1.1  \n",
      "13          -2.3  \n",
      "14          -1.1  \n",
      "15           2.1  \n",
      "16          -1.1  \n",
      "17          -2.0  \n",
      "18           1.7  \n",
      "19          -1.1  \n"
     ]
    }
   ],
   "source": [
    "# In case you would like to load the model from disk\n",
    "# loaded_model = pickle.load(open(filename, 'rb'))\n",
    "\n",
    "# a. read in the new data file to predict \n",
    "# ---------------------------------------\n",
    "# hint: (use read_csv of pandas)\n",
    "df_predict = pd.read_csv('uci_bank_predict.csv')\n",
    "\n",
    "## b. view data file content\n",
    "# --------------------------\n",
    "print(df_predict.shape)\n",
    "print(df_predict)"
   ]
  },
  {
   "cell_type": "code",
   "execution_count": 15,
   "metadata": {},
   "outputs": [
    {
     "name": "stdout",
     "output_type": "stream",
     "text": [
      "['age' 'campaign' 'emp.var.rate']\n",
      "---Successfully processed numeric column(s)\n",
      "        age            education  default  housing     loan  campaign  \\\n",
      "0  0.509804             basic.6y  unknown      yes       no       0.2   \n",
      "1  0.588235  professional.course       no      yes      yes       0.0   \n",
      "2  0.509804    university.degree  unknown      yes       no       0.2   \n",
      "3  0.000000          high.school       no      yes       no       0.2   \n",
      "4  0.450980             basic.9y       no  unknown  unknown       0.0   \n",
      "\n",
      "   emp.var.rate  \n",
      "0      0.113636  \n",
      "1      0.500000  \n",
      "2      0.840909  \n",
      "3      0.840909  \n",
      "4      0.772727  \n",
      "---Successfully processed categorical column(s)\n",
      "        age  campaign  emp.var.rate  education_basic.4y  education_basic.6y  \\\n",
      "0  0.509804       0.2      0.113636                   0                   1   \n",
      "1  0.588235       0.0      0.500000                   0                   0   \n",
      "2  0.509804       0.2      0.840909                   0                   0   \n",
      "3  0.000000       0.2      0.840909                   0                   0   \n",
      "4  0.450980       0.0      0.772727                   0                   0   \n",
      "\n",
      "   education_basic.9y  education_high.school  education_illiterate  \\\n",
      "0                   0                      0                     0   \n",
      "1                   0                      0                     0   \n",
      "2                   0                      0                     0   \n",
      "3                   0                      1                     0   \n",
      "4                   1                      0                     0   \n",
      "\n",
      "   education_professional.course  education_university.degree  \\\n",
      "0                              0                            0   \n",
      "1                              1                            0   \n",
      "2                              0                            1   \n",
      "3                              0                            0   \n",
      "4                              0                            0   \n",
      "\n",
      "   education_unknown  default_no  default_unknown  default_yes  housing_no  \\\n",
      "0                  0           0                1            0           0   \n",
      "1                  0           1                0            0           0   \n",
      "2                  0           0                1            0           0   \n",
      "3                  0           1                0            0           0   \n",
      "4                  0           1                0            0           0   \n",
      "\n",
      "   housing_unknown  housing_yes  loan_no  loan_unknown  loan_yes  \n",
      "0                0            1        1             0         0  \n",
      "1                0            1        0             0         1  \n",
      "2                0            1        1             0         0  \n",
      "3                0            1        1             0         0  \n",
      "4                1            0        0             1         0  \n"
     ]
    }
   ],
   "source": [
    "# c. preprocess data before prediction\n",
    "# ------------------------------------\n",
    "# hint: remember we created a function for that\n",
    "# we dont have y column as new data that needs to be predicted\n",
    "X_predict = preprocess_data(df_predict)"
   ]
  },
  {
   "cell_type": "code",
   "execution_count": 16,
   "metadata": {},
   "outputs": [
    {
     "name": "stdout",
     "output_type": "stream",
     "text": [
      "(20, 20)\n"
     ]
    }
   ],
   "source": [
    "print(X_predict.shape)"
   ]
  },
  {
   "cell_type": "code",
   "execution_count": 17,
   "metadata": {},
   "outputs": [
    {
     "name": "stdout",
     "output_type": "stream",
     "text": [
      "['no' 'yes' 'no' 'no' 'no' 'no' 'no' 'no' 'no' 'no' 'no' 'yes' 'yes' 'yes'\n",
      " 'yes' 'no' 'yes' 'yes' 'no' 'yes']\n"
     ]
    }
   ],
   "source": [
    "# d. predict using the model\n",
    "# --------------------------\n",
    "# hint: use the predict() method of `logreg` model\n",
    "y_predict = logreg.predict(X_predict)\n",
    "print(y_predict)"
   ]
  },
  {
   "cell_type": "code",
   "execution_count": 18,
   "metadata": {},
   "outputs": [
    {
     "name": "stdout",
     "output_type": "stream",
     "text": [
      "(array([ 1, 11, 12, 13, 14, 16, 17, 19], dtype=int64),)\n"
     ]
    }
   ],
   "source": [
    "# e. which customer may subscribe to a short-term deposit?\n",
    "# --------------------------------------------------------\n",
    "print(np.where(y_predict=='yes'))"
   ]
  },
  {
   "cell_type": "markdown",
   "metadata": {},
   "source": [
    "### Activity - Use Grid search and cross validation to find the best parameters of an algorithm. "
   ]
  },
  {
   "cell_type": "markdown",
   "metadata": {},
   "source": [
    "Two common problems in machine learning models are overfitting and underfitting. We can often fix either problems by adjusting the hyperparameters on our model. However, there are many hyper-parameters to adjust and the best way to get the best settings is often through trial and error, which can take a lot of work to try all the possible combinations.\n",
    "\n",
    "A solution to finding suitable values for parameters is to use a Grid Search. Grid search is a method to automate the finding of the optimum values of hyperparameters. It trains and tests the model using every combination of \n",
    "parameters. The combination of parameters that generates the best predictions will be the set of parameters that you should use for your real model.\n",
    "\n",
    "The CV in GridsearchCV stands for cross-validation.The function will automatically slice up the training data into smaller subsets, and use part of the data for training models, and then use a different part of the data for testing those models."
   ]
  },
  {
   "cell_type": "code",
   "execution_count": 19,
   "metadata": {},
   "outputs": [
    {
     "name": "stdout",
     "output_type": "stream",
     "text": [
      "Best cross-validation score: 0.72\n",
      "Best parameters:  {'C': 10}\n",
      "Best estimator:  LogisticRegression(C=10, solver='liblinear')\n",
      "Testing accuracy after grid search 0.7212199312714777\n",
      "              precision    recall  f1-score   support\n",
      "\n",
      "          no       0.77      0.77      0.77      1400\n",
      "         yes       0.65      0.65      0.65       928\n",
      "\n",
      "    accuracy                           0.72      2328\n",
      "   macro avg       0.71      0.71      0.71      2328\n",
      "weighted avg       0.72      0.72      0.72      2328\n",
      "\n"
     ]
    },
    {
     "data": {
      "image/png": "[encoded data removed]",
      "text/plain": [
       "<Figure size 432x288 with 2 Axes>"
      ]
     },
     "metadata": {
      "needs_background": "light"
     },
     "output_type": "display_data"
    }
   ],
   "source": [
    "#grid search for parameter\n",
    "param_grid = {'C': [0.01, 0.1, 1, 10, 20]}\n",
    "grid = GridSearchCV(LogisticRegression(solver='liblinear'), param_grid, cv=5)\n",
    "\n",
    "grid.fit(X_train, y_train)\n",
    "\n",
    "print(\"Best cross-validation score: {:.2f}\".format(grid.best_score_))\n",
    "print(\"Best parameters: \", grid.best_params_)\n",
    "print(\"Best estimator: \", grid.best_estimator_)\n",
    "\n",
    "#make prediction\n",
    "lr = grid.best_estimator_\n",
    "lr.fit(X_train, y_train)\n",
    "y_pred = lr.predict(X_test)\n",
    "print('Testing accuracy after grid search %s' % accuracy_score(y_test, y_pred))\n",
    "\n",
    "#compute confusion matrix\n",
    "#print(confusion_matrix(y_test, y_pred, labels=labels))\n",
    "cm=confusion_matrix(y_test, y_pred, labels=['yes','no'])\n",
    "disp = ConfusionMatrixDisplay(confusion_matrix=cm,display_labels=labels)\n",
    "disp.plot()\n",
    "\n",
    "#look at the value for both 'yes' and 'no' class, the model can predict 'no' better than 'yes' \n",
    "print(classification_report(y_test, y_pred))"
   ]
  },
  {
   "cell_type": "markdown",
   "metadata": {},
   "source": [
    "#### As seen from the f1 score, the ability for the Gridsearch to predict \"no\" of 0.77 is better than logistic regression ability of 0.76."
   ]
  }
 ],
 "metadata": {
  "kernelspec": {
   "display_name": "Python 3",
   "language": "python",
   "name": "python3"
  },
  "language_info": {
   "codemirror_mode": {
    "name": "ipython",
    "version": 3
   },
   "file_extension": ".py",
   "mimetype": "text/x-python",
   "name": "python",
   "nbconvert_exporter": "python",
   "pygments_lexer": "ipython3",
   "version": "3.8.5"
  }
 },
 "nbformat": 4,
 "nbformat_minor": 4
}
